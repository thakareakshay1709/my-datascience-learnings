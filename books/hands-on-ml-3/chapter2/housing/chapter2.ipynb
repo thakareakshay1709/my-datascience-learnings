{
 "cells": [
  {
   "cell_type": "markdown",
   "id": "7b40f35f",
   "metadata": {},
   "source": [
    "# Chapter 2 : End-To-End Machine Learning Project"
   ]
  },
  {
   "cell_type": "markdown",
   "id": "5fb19502",
   "metadata": {},
   "source": [
    "### Our approach for this problem will be based below main steps-\n",
    "\n",
    "1. Look at the bigger picture\n",
    "2. Get the data\n",
    "3. Explore & visualise the data to gain insights\n",
    "4. Prepare the data for machine learning algorithms\n",
    "5. Select a model & train it\n",
    "6. Fine-tune your model\n",
    "7. Present your solution\n",
    "8. Launch, monitor & maintain your system"
   ]
  },
  {
   "cell_type": "markdown",
   "id": "785486f7",
   "metadata": {},
   "source": []
  },
  {
   "cell_type": "code",
   "execution_count": 46,
   "id": "657844ab",
   "metadata": {},
   "outputs": [],
   "source": [
    "# import statements\n",
    "import pandas as pd\n",
    "import os\n",
    "import matplotlib.pyplot as plt\n",
    "from sklearn.model_selection import train_test_split\n",
    "import numpy as np"
   ]
  },
  {
   "cell_type": "markdown",
   "id": "4ecc46e1",
   "metadata": {},
   "source": [
    "## 2. Get the Data"
   ]
  },
  {
   "cell_type": "code",
   "execution_count": 47,
   "id": "f5cd6565",
   "metadata": {},
   "outputs": [],
   "source": [
    "data_path = os.path.join(os.getcwd(), \"housing.csv\")"
   ]
  },
  {
   "cell_type": "code",
   "execution_count": 48,
   "id": "2ab5136d",
   "metadata": {},
   "outputs": [
    {
     "data": {
      "text/plain": [
       "'/Users/n1579399/Desktop/my-datascience-learnings/books/hands-on-ml-3/chapter2/housing/housing.csv'"
      ]
     },
     "execution_count": 48,
     "metadata": {},
     "output_type": "execute_result"
    }
   ],
   "source": [
    "data_path"
   ]
  },
  {
   "cell_type": "code",
   "execution_count": 49,
   "id": "45ec1024",
   "metadata": {},
   "outputs": [
    {
     "data": {
      "text/html": [
       "<div>\n",
       "<style scoped>\n",
       "    .dataframe tbody tr th:only-of-type {\n",
       "        vertical-align: middle;\n",
       "    }\n",
       "\n",
       "    .dataframe tbody tr th {\n",
       "        vertical-align: top;\n",
       "    }\n",
       "\n",
       "    .dataframe thead th {\n",
       "        text-align: right;\n",
       "    }\n",
       "</style>\n",
       "<table border=\"1\" class=\"dataframe\">\n",
       "  <thead>\n",
       "    <tr style=\"text-align: right;\">\n",
       "      <th></th>\n",
       "      <th>longitude</th>\n",
       "      <th>latitude</th>\n",
       "      <th>housing_median_age</th>\n",
       "      <th>total_rooms</th>\n",
       "      <th>total_bedrooms</th>\n",
       "      <th>population</th>\n",
       "      <th>households</th>\n",
       "      <th>median_income</th>\n",
       "      <th>median_house_value</th>\n",
       "      <th>ocean_proximity</th>\n",
       "    </tr>\n",
       "  </thead>\n",
       "  <tbody>\n",
       "    <tr>\n",
       "      <th>0</th>\n",
       "      <td>-122.23</td>\n",
       "      <td>37.88</td>\n",
       "      <td>41.0</td>\n",
       "      <td>880.0</td>\n",
       "      <td>129.0</td>\n",
       "      <td>322.0</td>\n",
       "      <td>126.0</td>\n",
       "      <td>8.3252</td>\n",
       "      <td>452600.0</td>\n",
       "      <td>NEAR BAY</td>\n",
       "    </tr>\n",
       "    <tr>\n",
       "      <th>1</th>\n",
       "      <td>-122.22</td>\n",
       "      <td>37.86</td>\n",
       "      <td>21.0</td>\n",
       "      <td>7099.0</td>\n",
       "      <td>1106.0</td>\n",
       "      <td>2401.0</td>\n",
       "      <td>1138.0</td>\n",
       "      <td>8.3014</td>\n",
       "      <td>358500.0</td>\n",
       "      <td>NEAR BAY</td>\n",
       "    </tr>\n",
       "    <tr>\n",
       "      <th>2</th>\n",
       "      <td>-122.24</td>\n",
       "      <td>37.85</td>\n",
       "      <td>52.0</td>\n",
       "      <td>1467.0</td>\n",
       "      <td>190.0</td>\n",
       "      <td>496.0</td>\n",
       "      <td>177.0</td>\n",
       "      <td>7.2574</td>\n",
       "      <td>352100.0</td>\n",
       "      <td>NEAR BAY</td>\n",
       "    </tr>\n",
       "    <tr>\n",
       "      <th>3</th>\n",
       "      <td>-122.25</td>\n",
       "      <td>37.85</td>\n",
       "      <td>52.0</td>\n",
       "      <td>1274.0</td>\n",
       "      <td>235.0</td>\n",
       "      <td>558.0</td>\n",
       "      <td>219.0</td>\n",
       "      <td>5.6431</td>\n",
       "      <td>341300.0</td>\n",
       "      <td>NEAR BAY</td>\n",
       "    </tr>\n",
       "    <tr>\n",
       "      <th>4</th>\n",
       "      <td>-122.25</td>\n",
       "      <td>37.85</td>\n",
       "      <td>52.0</td>\n",
       "      <td>1627.0</td>\n",
       "      <td>280.0</td>\n",
       "      <td>565.0</td>\n",
       "      <td>259.0</td>\n",
       "      <td>3.8462</td>\n",
       "      <td>342200.0</td>\n",
       "      <td>NEAR BAY</td>\n",
       "    </tr>\n",
       "  </tbody>\n",
       "</table>\n",
       "</div>"
      ],
      "text/plain": [
       "   longitude  latitude  housing_median_age  total_rooms  total_bedrooms  \\\n",
       "0    -122.23     37.88                41.0        880.0           129.0   \n",
       "1    -122.22     37.86                21.0       7099.0          1106.0   \n",
       "2    -122.24     37.85                52.0       1467.0           190.0   \n",
       "3    -122.25     37.85                52.0       1274.0           235.0   \n",
       "4    -122.25     37.85                52.0       1627.0           280.0   \n",
       "\n",
       "   population  households  median_income  median_house_value ocean_proximity  \n",
       "0       322.0       126.0         8.3252            452600.0        NEAR BAY  \n",
       "1      2401.0      1138.0         8.3014            358500.0        NEAR BAY  \n",
       "2       496.0       177.0         7.2574            352100.0        NEAR BAY  \n",
       "3       558.0       219.0         5.6431            341300.0        NEAR BAY  \n",
       "4       565.0       259.0         3.8462            342200.0        NEAR BAY  "
      ]
     },
     "execution_count": 49,
     "metadata": {},
     "output_type": "execute_result"
    }
   ],
   "source": [
    "housing_df = pd.read_csv(data_path)\n",
    "housing_df.head(5)"
   ]
  },
  {
   "cell_type": "code",
   "execution_count": 50,
   "id": "c5568831",
   "metadata": {},
   "outputs": [
    {
     "name": "stdout",
     "output_type": "stream",
     "text": [
      "<class 'pandas.core.frame.DataFrame'>\n",
      "RangeIndex: 20640 entries, 0 to 20639\n",
      "Data columns (total 10 columns):\n",
      " #   Column              Non-Null Count  Dtype  \n",
      "---  ------              --------------  -----  \n",
      " 0   longitude           20640 non-null  float64\n",
      " 1   latitude            20640 non-null  float64\n",
      " 2   housing_median_age  20640 non-null  float64\n",
      " 3   total_rooms         20640 non-null  float64\n",
      " 4   total_bedrooms      20433 non-null  float64\n",
      " 5   population          20640 non-null  float64\n",
      " 6   households          20640 non-null  float64\n",
      " 7   median_income       20640 non-null  float64\n",
      " 8   median_house_value  20640 non-null  float64\n",
      " 9   ocean_proximity     20640 non-null  object \n",
      "dtypes: float64(9), object(1)\n",
      "memory usage: 1.6+ MB\n"
     ]
    }
   ],
   "source": [
    "housing_df.info()"
   ]
  },
  {
   "cell_type": "markdown",
   "id": "70378c66",
   "metadata": {},
   "source": [
    "Notice feature 'total_bedrooms' has only 20433 out of total dataset entries 20640. Meaning 207 districts does not have valid value for this feature."
   ]
  },
  {
   "cell_type": "markdown",
   "id": "95cd3928",
   "metadata": {},
   "source": [
    "### Exploring 'ocean_proximity' as categorical feature: 5 categorical values as below"
   ]
  },
  {
   "cell_type": "code",
   "execution_count": 51,
   "id": "a1248b37",
   "metadata": {},
   "outputs": [
    {
     "data": {
      "text/plain": [
       "<1H OCEAN     9136\n",
       "INLAND        6551\n",
       "NEAR OCEAN    2658\n",
       "NEAR BAY      2290\n",
       "ISLAND           5\n",
       "Name: ocean_proximity, dtype: int64"
      ]
     },
     "execution_count": 51,
     "metadata": {},
     "output_type": "execute_result"
    }
   ],
   "source": [
    "housing_df['ocean_proximity'].value_counts()"
   ]
  },
  {
   "cell_type": "markdown",
   "id": "8ecc45b8",
   "metadata": {},
   "source": [
    "### Exploring the distribution of numerical attributes\n",
    "- Numerical features are pretty skewed, we need may need to normalise them\n",
    "- Few features like housing_median_age & median_house_value are capped at different levels"
   ]
  },
  {
   "cell_type": "code",
   "execution_count": 52,
   "id": "0c0aaae7",
   "metadata": {},
   "outputs": [
    {
     "data": {
      "text/plain": [
       "array([[<AxesSubplot:title={'center':'longitude'}>,\n",
       "        <AxesSubplot:title={'center':'latitude'}>,\n",
       "        <AxesSubplot:title={'center':'housing_median_age'}>],\n",
       "       [<AxesSubplot:title={'center':'total_rooms'}>,\n",
       "        <AxesSubplot:title={'center':'total_bedrooms'}>,\n",
       "        <AxesSubplot:title={'center':'population'}>],\n",
       "       [<AxesSubplot:title={'center':'households'}>,\n",
       "        <AxesSubplot:title={'center':'median_income'}>,\n",
       "        <AxesSubplot:title={'center':'median_house_value'}>]],\n",
       "      dtype=object)"
      ]
     },
     "execution_count": 52,
     "metadata": {},
     "output_type": "execute_result"
    },
    {
     "data": {
      "image/png": "[encoded data removed]",
      "text/plain": [
       "<Figure size 1080x576 with 9 Axes>"
      ]
     },
     "metadata": {
      "needs_background": "light"
     },
     "output_type": "display_data"
    }
   ],
   "source": [
    "housing_df.hist(figsize=(15,8), bins=40) \n",
    "# figsize = how stretch the figure will be\n",
    "# bins = how smooth the distribution looks like, divide data into smaller bins"
   ]
  },
  {
   "cell_type": "markdown",
   "id": "ef231241",
   "metadata": {},
   "source": [
    "### Creating a Test Set\n",
    "\n",
    "- Here we have randomly selected the test set which is not the ideal way because it might introduce the sampling bias. Test set should be the representative of all the dataset to produce reliable & accurate results.\n",
    "- Assuming 'median_income' feature is very important in predicting 'median_house_value' so the test set should be representative of this feature.\n",
    "- Looking at 'median_income', it appears to be divided mostly from 1.5 to 6. Let's create new feature 'income_cat'to represent categories for this continous variable. Categories shouldn't be too large or small\n",
    "- pd.cut() function provides the way to create these categories\n",
    "- train_test_split() function provides an argument stratify=feature_name which is used to create test set with stratified strategy"
   ]
  },
  {
   "cell_type": "code",
   "execution_count": 53,
   "id": "1b12eed5",
   "metadata": {},
   "outputs": [],
   "source": [
    "housing_df[\"income_cat\"] = pd.cut(housing_df[\"median_income\"],\n",
    "                                 bins=[0.,1.5,3.,4.5,6., np.inf],\n",
    "                                 labels=[1,2,3,4,5]) # np.inf required as bins should > labels"
   ]
  },
  {
   "cell_type": "code",
   "execution_count": 54,
   "id": "716fb710",
   "metadata": {},
   "outputs": [
    {
     "data": {
      "text/plain": [
       "Text(0, 0.5, 'Number of districts')"
      ]
     },
     "execution_count": 54,
     "metadata": {},
     "output_type": "execute_result"
    },
    {
     "data": {
      "image/png": "[encoded data removed]",
      "text/plain": [
       "<Figure size 432x288 with 1 Axes>"
      ]
     },
     "metadata": {
      "needs_background": "light"
     },
     "output_type": "display_data"
    }
   ],
   "source": [
    "housing_df[\"income_cat\"].value_counts().sort_index().plot.bar(rot=0, grid=True) # rot: \n",
    "plt.xlabel(\"Income category\")\n",
    "plt.ylabel(\"Number of districts\")"
   ]
  },
  {
   "cell_type": "code",
   "execution_count": 55,
   "id": "3ef11f2e",
   "metadata": {},
   "outputs": [],
   "source": [
    "# unstratified data\n",
    "unstrat_train_set, unstrat_test_set = train_test_split(housing_df, test_size=0.2, random_state=42)"
   ]
  },
  {
   "cell_type": "code",
   "execution_count": 56,
   "id": "5a2997f4",
   "metadata": {},
   "outputs": [],
   "source": [
    "# stratified sampling\n",
    "strat_train_set, strat_test_set = train_test_split(housing_df, test_size=0.2, random_state=42, stratify=housing_df[\"income_cat\"])"
   ]
  },
  {
   "cell_type": "code",
   "execution_count": 57,
   "id": "8c048613",
   "metadata": {},
   "outputs": [
    {
     "data": {
      "text/plain": [
       "3    0.350533\n",
       "2    0.318798\n",
       "4    0.176357\n",
       "5    0.114341\n",
       "1    0.039971\n",
       "Name: income_cat, dtype: float64"
      ]
     },
     "execution_count": 57,
     "metadata": {},
     "output_type": "execute_result"
    }
   ],
   "source": [
    "strat_test_set[\"income_cat\"].value_counts()/len(strat_test_set) # total strat test set = 4128\n"
   ]
  },
  {
   "cell_type": "code",
   "execution_count": 58,
   "id": "393fd325",
   "metadata": {},
   "outputs": [],
   "source": [
    "# we won't use the income_cat feature again & also don't want it to influence our predictions, so we will remove it\n",
    "for feat_set in (strat_train_set, strat_test_set):\n",
    "    feat_set.drop(\"income_cat\", axis=1, inplace=True)"
   ]
  },
  {
   "cell_type": "markdown",
   "id": "f621e37a",
   "metadata": {},
   "source": [
    "## 3. Explore & Visualise the Data to Gain Insights"
   ]
  },
  {
   "cell_type": "code",
   "execution_count": 60,
   "id": "b9e5cb0c",
   "metadata": {},
   "outputs": [
    {
     "data": {
      "text/html": [
       "<div>\n",
       "<style scoped>\n",
       "    .dataframe tbody tr th:only-of-type {\n",
       "        vertical-align: middle;\n",
       "    }\n",
       "\n",
       "    .dataframe tbody tr th {\n",
       "        vertical-align: top;\n",
       "    }\n",
       "\n",
       "    .dataframe thead th {\n",
       "        text-align: right;\n",
       "    }\n",
       "</style>\n",
       "<table border=\"1\" class=\"dataframe\">\n",
       "  <thead>\n",
       "    <tr style=\"text-align: right;\">\n",
       "      <th></th>\n",
       "      <th>longitude</th>\n",
       "      <th>latitude</th>\n",
       "      <th>housing_median_age</th>\n",
       "      <th>total_rooms</th>\n",
       "      <th>total_bedrooms</th>\n",
       "      <th>population</th>\n",
       "      <th>households</th>\n",
       "      <th>median_income</th>\n",
       "      <th>median_house_value</th>\n",
       "      <th>ocean_proximity</th>\n",
       "    </tr>\n",
       "  </thead>\n",
       "  <tbody>\n",
       "    <tr>\n",
       "      <th>13096</th>\n",
       "      <td>-122.42</td>\n",
       "      <td>37.80</td>\n",
       "      <td>52.0</td>\n",
       "      <td>3321.0</td>\n",
       "      <td>1115.0</td>\n",
       "      <td>1576.0</td>\n",
       "      <td>1034.0</td>\n",
       "      <td>2.0987</td>\n",
       "      <td>458300.0</td>\n",
       "      <td>NEAR BAY</td>\n",
       "    </tr>\n",
       "    <tr>\n",
       "      <th>14973</th>\n",
       "      <td>-118.38</td>\n",
       "      <td>34.14</td>\n",
       "      <td>40.0</td>\n",
       "      <td>1965.0</td>\n",
       "      <td>354.0</td>\n",
       "      <td>666.0</td>\n",
       "      <td>357.0</td>\n",
       "      <td>6.0876</td>\n",
       "      <td>483800.0</td>\n",
       "      <td>&lt;1H OCEAN</td>\n",
       "    </tr>\n",
       "    <tr>\n",
       "      <th>3785</th>\n",
       "      <td>-121.98</td>\n",
       "      <td>38.36</td>\n",
       "      <td>33.0</td>\n",
       "      <td>1083.0</td>\n",
       "      <td>217.0</td>\n",
       "      <td>562.0</td>\n",
       "      <td>203.0</td>\n",
       "      <td>2.4330</td>\n",
       "      <td>101700.0</td>\n",
       "      <td>INLAND</td>\n",
       "    </tr>\n",
       "    <tr>\n",
       "      <th>14689</th>\n",
       "      <td>-117.11</td>\n",
       "      <td>33.75</td>\n",
       "      <td>17.0</td>\n",
       "      <td>4174.0</td>\n",
       "      <td>851.0</td>\n",
       "      <td>1845.0</td>\n",
       "      <td>780.0</td>\n",
       "      <td>2.2618</td>\n",
       "      <td>96100.0</td>\n",
       "      <td>INLAND</td>\n",
       "    </tr>\n",
       "    <tr>\n",
       "      <th>20507</th>\n",
       "      <td>-118.15</td>\n",
       "      <td>33.77</td>\n",
       "      <td>36.0</td>\n",
       "      <td>4366.0</td>\n",
       "      <td>1211.0</td>\n",
       "      <td>1912.0</td>\n",
       "      <td>1172.0</td>\n",
       "      <td>3.5292</td>\n",
       "      <td>361800.0</td>\n",
       "      <td>NEAR OCEAN</td>\n",
       "    </tr>\n",
       "  </tbody>\n",
       "</table>\n",
       "</div>"
      ],
      "text/plain": [
       "       longitude  latitude  housing_median_age  total_rooms  total_bedrooms  \\\n",
       "13096    -122.42     37.80                52.0       3321.0          1115.0   \n",
       "14973    -118.38     34.14                40.0       1965.0           354.0   \n",
       "3785     -121.98     38.36                33.0       1083.0           217.0   \n",
       "14689    -117.11     33.75                17.0       4174.0           851.0   \n",
       "20507    -118.15     33.77                36.0       4366.0          1211.0   \n",
       "\n",
       "       population  households  median_income  median_house_value  \\\n",
       "13096      1576.0      1034.0         2.0987            458300.0   \n",
       "14973       666.0       357.0         6.0876            483800.0   \n",
       "3785        562.0       203.0         2.4330            101700.0   \n",
       "14689      1845.0       780.0         2.2618             96100.0   \n",
       "20507      1912.0      1172.0         3.5292            361800.0   \n",
       "\n",
       "      ocean_proximity  \n",
       "13096        NEAR BAY  \n",
       "14973       <1H OCEAN  \n",
       "3785           INLAND  \n",
       "14689          INLAND  \n",
       "20507      NEAR OCEAN  "
      ]
     },
     "execution_count": 60,
     "metadata": {},
     "output_type": "execute_result"
    }
   ],
   "source": [
    "# Lets' copy the original data to analyse/manipulate\n",
    "\n",
    "housing = strat_train_set.copy()\n",
    "housing.head(5)"
   ]
  },
  {
   "cell_type": "code",
   "execution_count": 62,
   "id": "1b36476c",
   "metadata": {},
   "outputs": [
    {
     "data": {
      "text/plain": [
       "<AxesSubplot:xlabel='longitude', ylabel='latitude'>"
      ]
     },
     "execution_count": 62,
     "metadata": {},
     "output_type": "execute_result"
    },
    {
     "data": {
      "image/png": "[encoded data removed]",
      "text/plain": [
       "<Figure size 432x288 with 1 Axes>"
      ]
     },
     "metadata": {
      "needs_background": "light"
     },
     "output_type": "display_data"
    }
   ],
   "source": [
    "# As we are dealing with geographical data so it make sense to plot the scatterplot\n",
    "\n",
    "housing.plot(kind=\"scatter\", x=\"longitude\", y=\"latitude\", alpha=0.2) # alpha represents high density areas"
   ]
  },
  {
   "cell_type": "code",
   "execution_count": null,
   "id": "c6af61ed",
   "metadata": {},
   "outputs": [],
   "source": []
  }
 ],
 "metadata": {
  "kernelspec": {
   "display_name": "Python 3 (ipykernel)",
   "language": "python",
   "name": "python3"
  },
  "language_info": {
   "codemirror_mode": {
    "name": "ipython",
    "version": 3
   },
   "file_extension": ".py",
   "mimetype": "text/x-python",
   "name": "python",
   "nbconvert_exporter": "python",
   "pygments_lexer": "ipython3",
   "version": "3.9.7"
  }
 },
 "nbformat": 4,
 "nbformat_minor": 5
}
