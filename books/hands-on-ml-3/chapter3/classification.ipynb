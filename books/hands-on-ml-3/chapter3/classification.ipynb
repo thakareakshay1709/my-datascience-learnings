{
 "cells": [
  {
   "cell_type": "markdown",
   "id": "0b43e8db-7c3d-4657-a165-814c61faef1b",
   "metadata": {},
   "source": [
    "## Classification\n",
    "- We will explore MNIST dataset provided by sklearn to classify digits handwritten by humans\n",
    "- MNIST dataset is 'Hello World' of Machine Learning so you will encounter this dataset somehow in your journey\n",
    "- Shape of this dataset is around 70K with 784 features (each image is 28X28 size)\n",
    "- This is 2D numpy array where single vector represents intensities of pixels of image within range (0 white - 255 black)"
   ]
  },
  {
   "cell_type": "code",
   "execution_count": 38,
   "id": "c3a4dcba-06c8-469a-8ddf-36d0a28fc86e",
   "metadata": {},
   "outputs": [],
   "source": [
    "# import statements\n",
    "from sklearn.datasets import fetch_openml\n",
    "import matplotlib.pyplot as plt\n",
    "from sklearn.linear_model import SGDClassifier\n",
    "from sklearn.model_selection import cross_val_score, cross_val_predict\n",
    "from sklearn.dummy import DummyClassifier\n",
    "from sklearn.metrics import confusion_matrix, precision_score, recall_score, f1_score"
   ]
  },
  {
   "cell_type": "code",
   "execution_count": 2,
   "id": "eac5891f-7dfa-469a-8db9-51fc28ee790b",
   "metadata": {},
   "outputs": [],
   "source": [
    "# loading dataset - as this is image dataset which wont be suitable for dataframes so it makes sense to load it as_frame=False\n",
    "mnist = fetch_openml('mnist_784', as_frame=False)"
   ]
  },
  {
   "cell_type": "markdown",
   "id": "58a6ad56-6420-4d5e-b25e-85e8778ea722",
   "metadata": {},
   "source": [
    "### Exploring Dataset"
   ]
  },
  {
   "cell_type": "code",
   "execution_count": 3,
   "id": "e8960f0b-e086-4657-88c2-d715a842396d",
   "metadata": {},
   "outputs": [
    {
     "data": {
      "text/plain": [
       "sklearn.utils._bunch.Bunch"
      ]
     },
     "execution_count": 3,
     "metadata": {},
     "output_type": "execute_result"
    }
   ],
   "source": [
    "type(mnist)"
   ]
  },
  {
   "cell_type": "code",
   "execution_count": 4,
   "id": "5511b5fe-5e5a-4f02-9503-03eecf6faaab",
   "metadata": {},
   "outputs": [],
   "source": [
    "# fetching data & target from bunch\n",
    "X, y = mnist.data, mnist.target"
   ]
  },
  {
   "cell_type": "code",
   "execution_count": 5,
   "id": "861af2b2-7dd8-4349-ac3c-c59a1954941a",
   "metadata": {},
   "outputs": [
    {
     "name": "stdout",
     "output_type": "stream",
     "text": [
      "Shape of X : (70000, 784) & y: (70000,)\n"
     ]
    }
   ],
   "source": [
    "print(f\"Shape of X : {X.shape} & y: {y.shape}\")"
   ]
  },
  {
   "cell_type": "code",
   "execution_count": 6,
   "id": "2d367c26-de06-4ccc-9eca-610823e492b3",
   "metadata": {},
   "outputs": [],
   "source": [
    "def show_digit(_array):\n",
    "    \"\"\"This function displays each digit in MNIST dataset\"\"\"\n",
    "    array = _array.reshape(28, 28) # reshaping pixels to be plotted\n",
    "    #print(array)\n",
    "    plt.imshow(array, cmap=\"gray\")"
   ]
  },
  {
   "cell_type": "code",
   "execution_count": 7,
   "id": "a25e3bd3-fb6e-4ef4-8c00-7d00ed5ccdc0",
   "metadata": {},
   "outputs": [
    {
     "data": {
      "image/png": "[encoded data removed]",
      "text/plain": [
       "<Figure size 432x288 with 1 Axes>"
      ]
     },
     "metadata": {
      "needs_background": "light"
     },
     "output_type": "display_data"
    }
   ],
   "source": [
    "show_digit(X[2])"
   ]
  },
  {
   "cell_type": "code",
   "execution_count": 8,
   "id": "76761030-8937-4871-8b07-9d75e0cba42c",
   "metadata": {},
   "outputs": [
    {
     "data": {
      "text/plain": [
       "'4'"
      ]
     },
     "execution_count": 8,
     "metadata": {},
     "output_type": "execute_result"
    }
   ],
   "source": [
    "# check the target set\n",
    "y[2]"
   ]
  },
  {
   "cell_type": "code",
   "execution_count": 9,
   "id": "4411d5fd-fa52-4166-b3f9-ee988b00a73f",
   "metadata": {},
   "outputs": [],
   "source": [
    "X_train, y_train, X_test, y_test = X[:60000], y[:60000], X[60000:], y[60000:]"
   ]
  },
  {
   "cell_type": "markdown",
   "id": "d3f89f4a-a7d1-468d-80dd-49e27ac62802",
   "metadata": {},
   "source": [
    "### Binary Classifier & metrics\n",
    "- Lets form the binary classifier to classify any digit (for example: 4) or non_4 digit\n",
    "- Compare the performance of binary classifier with dummy model\n",
    "- Accuracy is not preferred metrics for classifiers"
   ]
  },
  {
   "cell_type": "code",
   "execution_count": 10,
   "id": "a2d5cca1-a60a-4713-a56f-62147b0ddefb",
   "metadata": {},
   "outputs": [],
   "source": [
    "y_only_4 = (y_train == '4')"
   ]
  },
  {
   "cell_type": "code",
   "execution_count": 11,
   "id": "aaf2d390-6704-4177-bdfc-a8a7e176da8a",
   "metadata": {},
   "outputs": [
    {
     "data": {
      "text/plain": [
       "(60000,)"
      ]
     },
     "execution_count": 11,
     "metadata": {},
     "output_type": "execute_result"
    }
   ],
   "source": [
    "y_only_4.shape"
   ]
  },
  {
   "cell_type": "code",
   "execution_count": 12,
   "id": "a3edcbd7-91a9-40ed-a11d-0960697e772d",
   "metadata": {},
   "outputs": [
    {
     "data": {
      "text/html": [
       "<style>#sk-container-id-1 {color: black;background-color: white;}#sk-container-id-1 pre{padding: 0;}#sk-container-id-1 div.sk-toggleable {background-color: white;}#sk-container-id-1 label.sk-toggleable__label {cursor: pointer;display: block;width: 100%;margin-bottom: 0;padding: 0.3em;box-sizing: border-box;text-align: center;}#sk-container-id-1 label.sk-toggleable__label-arrow:before {content: \"▸\";float: left;margin-right: 0.25em;color: #696969;}#sk-container-id-1 label.sk-toggleable__label-arrow:hover:before {color: black;}#sk-container-id-1 div.sk-estimator:hover label.sk-toggleable__label-arrow:before {color: black;}#sk-container-id-1 div.sk-toggleable__content {max-height: 0;max-width: 0;overflow: hidden;text-align: left;background-color: #f0f8ff;}#sk-container-id-1 div.sk-toggleable__content pre {margin: 0.2em;color: black;border-radius: 0.25em;background-color: #f0f8ff;}#sk-container-id-1 input.sk-toggleable__control:checked~div.sk-toggleable__content {max-height: 200px;max-width: 100%;overflow: auto;}#sk-container-id-1 input.sk-toggleable__control:checked~label.sk-toggleable__label-arrow:before {content: \"▾\";}#sk-container-id-1 div.sk-estimator input.sk-toggleable__control:checked~label.sk-toggleable__label {background-color: #d4ebff;}#sk-container-id-1 div.sk-label input.sk-toggleable__control:checked~label.sk-toggleable__label {background-color: #d4ebff;}#sk-container-id-1 input.sk-hidden--visually {border: 0;clip: rect(1px 1px 1px 1px);clip: rect(1px, 1px, 1px, 1px);height: 1px;margin: -1px;overflow: hidden;padding: 0;position: absolute;width: 1px;}#sk-container-id-1 div.sk-estimator {font-family: monospace;background-color: #f0f8ff;border: 1px dotted black;border-radius: 0.25em;box-sizing: border-box;margin-bottom: 0.5em;}#sk-container-id-1 div.sk-estimator:hover {background-color: #d4ebff;}#sk-container-id-1 div.sk-parallel-item::after {content: \"\";width: 100%;border-bottom: 1px solid gray;flex-grow: 1;}#sk-container-id-1 div.sk-label:hover label.sk-toggleable__label {background-color: #d4ebff;}#sk-container-id-1 div.sk-serial::before {content: \"\";position: absolute;border-left: 1px solid gray;box-sizing: border-box;top: 0;bottom: 0;left: 50%;z-index: 0;}#sk-container-id-1 div.sk-serial {display: flex;flex-direction: column;align-items: center;background-color: white;padding-right: 0.2em;padding-left: 0.2em;position: relative;}#sk-container-id-1 div.sk-item {position: relative;z-index: 1;}#sk-container-id-1 div.sk-parallel {display: flex;align-items: stretch;justify-content: center;background-color: white;position: relative;}#sk-container-id-1 div.sk-item::before, #sk-container-id-1 div.sk-parallel-item::before {content: \"\";position: absolute;border-left: 1px solid gray;box-sizing: border-box;top: 0;bottom: 0;left: 50%;z-index: -1;}#sk-container-id-1 div.sk-parallel-item {display: flex;flex-direction: column;z-index: 1;position: relative;background-color: white;}#sk-container-id-1 div.sk-parallel-item:first-child::after {align-self: flex-end;width: 50%;}#sk-container-id-1 div.sk-parallel-item:last-child::after {align-self: flex-start;width: 50%;}#sk-container-id-1 div.sk-parallel-item:only-child::after {width: 0;}#sk-container-id-1 div.sk-dashed-wrapped {border: 1px dashed gray;margin: 0 0.4em 0.5em 0.4em;box-sizing: border-box;padding-bottom: 0.4em;background-color: white;}#sk-container-id-1 div.sk-label label {font-family: monospace;font-weight: bold;display: inline-block;line-height: 1.2em;}#sk-container-id-1 div.sk-label-container {text-align: center;}#sk-container-id-1 div.sk-container {/* jupyter's `normalize.less` sets `[hidden] { display: none; }` but bootstrap.min.css set `[hidden] { display: none !important; }` so we also need the `!important` here to be able to override the default hidden behavior on the sphinx rendered scikit-learn.org. See: https://github.com/scikit-learn/scikit-learn/issues/21755 */display: inline-block !important;position: relative;}#sk-container-id-1 div.sk-text-repr-fallback {display: none;}</style><div id=\"sk-container-id-1\" class=\"sk-top-container\"><div class=\"sk-text-repr-fallback\"><pre>SGDClassifier()</pre><b>In a Jupyter environment, please rerun this cell to show the HTML representation or trust the notebook. <br />On GitHub, the HTML representation is unable to render, please try loading this page with nbviewer.org.</b></div><div class=\"sk-container\" hidden><div class=\"sk-item\"><div class=\"sk-estimator sk-toggleable\"><input class=\"sk-toggleable__control sk-hidden--visually\" id=\"sk-estimator-id-1\" type=\"checkbox\" checked><label for=\"sk-estimator-id-1\" class=\"sk-toggleable__label sk-toggleable__label-arrow\">SGDClassifier</label><div class=\"sk-toggleable__content\"><pre>SGDClassifier()</pre></div></div></div></div></div>"
      ],
      "text/plain": [
       "SGDClassifier()"
      ]
     },
     "execution_count": 12,
     "metadata": {},
     "output_type": "execute_result"
    }
   ],
   "source": [
    "clf = SGDClassifier()\n",
    "clf.fit(X_train, y_only_4)"
   ]
  },
  {
   "cell_type": "code",
   "execution_count": 13,
   "id": "956a39d5-7ba4-43cf-ba33-64f6e56a8b2b",
   "metadata": {},
   "outputs": [
    {
     "data": {
      "text/plain": [
       "array([ True])"
      ]
     },
     "execution_count": 13,
     "metadata": {},
     "output_type": "execute_result"
    }
   ],
   "source": [
    "clf.predict([X[2]])"
   ]
  },
  {
   "cell_type": "code",
   "execution_count": 16,
   "id": "aa9f87d2-26da-48f8-a438-d83bb9503443",
   "metadata": {},
   "outputs": [
    {
     "data": {
      "text/plain": [
       "array([0.9781 , 0.97775, 0.97025])"
      ]
     },
     "execution_count": 16,
     "metadata": {},
     "output_type": "execute_result"
    }
   ],
   "source": [
    "# this accuracy looks pretty promising\n",
    "cross_val_score(clf, X_train, y_only_4, cv=3, scoring=\"accuracy\")"
   ]
  },
  {
   "cell_type": "code",
   "execution_count": 18,
   "id": "b0221f4a-0a31-47f9-ac69-37cf2b9c7f84",
   "metadata": {},
   "outputs": [
    {
     "name": "stdout",
     "output_type": "stream",
     "text": [
      "False\n"
     ]
    }
   ],
   "source": [
    "dummy_clf = DummyClassifier()\n",
    "dummy_clf.fit(X_train, y_only_4)\n",
    "print(any(dummy_clf.predict(X_train)))"
   ]
  },
  {
   "cell_type": "code",
   "execution_count": 19,
   "id": "084bc816-d4d4-4cd1-b99c-0a988ec711a5",
   "metadata": {},
   "outputs": [
    {
     "data": {
      "text/plain": [
       "array([0.90265, 0.90265, 0.9026 ])"
      ]
     },
     "execution_count": 19,
     "metadata": {},
     "output_type": "execute_result"
    }
   ],
   "source": [
    "cross_val_score(dummy_clf, X_train, y_only_4, cv=3, scoring=\"accuracy\")"
   ]
  },
  {
   "cell_type": "code",
   "execution_count": 28,
   "id": "70650ef4-6735-4729-bdb7-fa4fe4231d03",
   "metadata": {},
   "outputs": [
    {
     "data": {
      "text/plain": [
       "9.74"
      ]
     },
     "execution_count": 28,
     "metadata": {},
     "output_type": "execute_result"
    }
   ],
   "source": [
    "# only around 10% of data contains 4. Meaning 90% is non 4s so classifier will have atleast \n",
    "# 90% of accuracy which the dummy classifier is producing\n",
    "round(len(y_train[y_train == '4'])/ len(y_train)*100, 2)"
   ]
  },
  {
   "cell_type": "code",
   "execution_count": 32,
   "id": "366fc5e6-164a-4b3f-bea0-f86410997c41",
   "metadata": {},
   "outputs": [],
   "source": [
    "# instead of having accuracy scores lets have the predictions\n",
    "y_train_pred = cross_val_predict(clf, X_train, y_only_4, cv=3)"
   ]
  },
  {
   "cell_type": "code",
   "execution_count": 35,
   "id": "fc9de823-6530-4191-afcf-f0f08121c0fb",
   "metadata": {},
   "outputs": [
    {
     "data": {
      "text/plain": [
       "array([[53310,   848],\n",
       "       [  936,  4906]])"
      ]
     },
     "execution_count": 35,
     "metadata": {},
     "output_type": "execute_result"
    }
   ],
   "source": [
    "# lets build the confusion matrix\n",
    "# 53310 - True Negative -> correctly classifed as non 4s\n",
    "# 848 - False Positives -> incorrectly classifed as 4s -> Type I error\n",
    "# 936 - False Negative -> incorrectly classied as non 4s -> Type II error\n",
    "# 4906 - True Positives -> correctly classified as 4s\n",
    "cm = confusion_matrix(y_only_4, y_train_pred)\n",
    "cm"
   ]
  },
  {
   "cell_type": "markdown",
   "id": "c3662796-a0b5-4c6d-92ca-01e22b7b50ef",
   "metadata": {},
   "source": [
    "### Precision & Recall"
   ]
  },
  {
   "cell_type": "code",
   "execution_count": 36,
   "id": "93c618b1-cbfa-4171-b0c7-1200cad4982b",
   "metadata": {},
   "outputs": [
    {
     "data": {
      "text/plain": [
       "0.8526242613833854"
      ]
     },
     "execution_count": 36,
     "metadata": {},
     "output_type": "execute_result"
    }
   ],
   "source": [
    "precision_score(y_only_4, y_train_pred) # TP / (TP + FP)"
   ]
  },
  {
   "cell_type": "code",
   "execution_count": 37,
   "id": "702bc40a-f3bb-497f-b7b0-17f208243f8d",
   "metadata": {},
   "outputs": [
    {
     "data": {
      "text/plain": [
       "0.8397808969530982"
      ]
     },
     "execution_count": 37,
     "metadata": {},
     "output_type": "execute_result"
    }
   ],
   "source": [
    "recall_score(y_only_4, y_train_pred) # TP / (TP + FN)"
   ]
  },
  {
   "cell_type": "code",
   "execution_count": 40,
   "id": "f046ef95-7b4d-4354-b01b-dafd836cd308",
   "metadata": {},
   "outputs": [
    {
     "data": {
      "text/plain": [
       "0.8461538461538461"
      ]
     },
     "execution_count": 40,
     "metadata": {},
     "output_type": "execute_result"
    }
   ],
   "source": [
    "f1_score(y_only_4, y_train_pred) # 2 x precision x recall / (precision + recall)"
   ]
  },
  {
   "cell_type": "code",
   "execution_count": null,
   "id": "02082a22-4973-4d96-aa13-7f95cde330fe",
   "metadata": {},
   "outputs": [],
   "source": []
  }
 ],
 "metadata": {
  "kernelspec": {
   "display_name": "twitter_analysis",
   "language": "python",
   "name": "twitter_analysis"
  },
  "language_info": {
   "codemirror_mode": {
    "name": "ipython",
    "version": 3
   },
   "file_extension": ".py",
   "mimetype": "text/x-python",
   "name": "python",
   "nbconvert_exporter": "python",
   "pygments_lexer": "ipython3",
   "version": "3.9.7"
  }
 },
 "nbformat": 4,
 "nbformat_minor": 5
}
