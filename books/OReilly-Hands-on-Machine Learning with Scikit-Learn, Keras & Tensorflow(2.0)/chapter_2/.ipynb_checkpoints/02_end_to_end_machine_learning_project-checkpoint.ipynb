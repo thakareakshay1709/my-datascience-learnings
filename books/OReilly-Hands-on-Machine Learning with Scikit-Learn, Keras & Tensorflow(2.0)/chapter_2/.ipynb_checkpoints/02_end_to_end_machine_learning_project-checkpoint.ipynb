{
 "cells": [
  {
   "cell_type": "markdown",
   "id": "f281890d",
   "metadata": {},
   "source": [
    "## GET THE DATA"
   ]
  },
  {
   "cell_type": "code",
   "execution_count": 4,
   "id": "9128780e",
   "metadata": {},
   "outputs": [],
   "source": [
    "# imports\n",
    "import pandas as pd\n",
    "from os import path, getcwd"
   ]
  },
  {
   "cell_type": "code",
   "execution_count": 5,
   "id": "97e6861f",
   "metadata": {},
   "outputs": [
    {
     "data": {
      "text/plain": [
       "'D:\\\\Programming\\\\Python\\\\my-datascience-learnings\\\\books\\\\OReilly-Hands-on-Machine Learning with Scikit-Learn, Keras & Tensorflow(2.0)\\\\chapter_2'"
      ]
     },
     "execution_count": 5,
     "metadata": {},
     "output_type": "execute_result"
    }
   ],
   "source": [
    "DATASET_DIRECTORY = getcwd()"
   ]
  },
  {
   "cell_type": "code",
   "execution_count": 3,
   "id": "41937c97",
   "metadata": {},
   "outputs": [
    {
     "ename": "NameError",
     "evalue": "name 'HOUSING_DATA_PATH' is not defined",
     "output_type": "error",
     "traceback": [
      "\u001b[1;31m---------------------------------------------------------------------------\u001b[0m",
      "\u001b[1;31mNameError\u001b[0m                                 Traceback (most recent call last)",
      "\u001b[1;32m<ipython-input-3-46992024e3c5>\u001b[0m in \u001b[0;36m<module>\u001b[1;34m\u001b[0m\n\u001b[1;32m----> 1\u001b[1;33m \u001b[1;32mdef\u001b[0m \u001b[0mload_housing_data\u001b[0m\u001b[1;33m(\u001b[0m\u001b[0mhousing_data_path\u001b[0m\u001b[1;33m=\u001b[0m\u001b[0mHOUSING_DATA_PATH\u001b[0m\u001b[1;33m)\u001b[0m\u001b[1;33m:\u001b[0m\u001b[1;33m\u001b[0m\u001b[1;33m\u001b[0m\u001b[0m\n\u001b[0m\u001b[0;32m      2\u001b[0m     \u001b[0mdata_path\u001b[0m \u001b[1;33m=\u001b[0m \u001b[0mpath\u001b[0m\u001b[1;33m.\u001b[0m\u001b[0mjoin\u001b[0m\u001b[1;33m(\u001b[0m\u001b[0mhousing_data_path\u001b[0m\u001b[1;33m,\u001b[0m \u001b[1;34m'housing.csv'\u001b[0m\u001b[1;33m)\u001b[0m\u001b[1;33m\u001b[0m\u001b[1;33m\u001b[0m\u001b[0m\n\u001b[0;32m      3\u001b[0m     \u001b[1;32mreturn\u001b[0m \u001b[0mpd\u001b[0m\u001b[1;33m.\u001b[0m\u001b[0mread_csv\u001b[0m\u001b[1;33m(\u001b[0m\u001b[0mdata_path\u001b[0m\u001b[1;33m)\u001b[0m \u001b[1;31m# loading data into csv\u001b[0m\u001b[1;33m\u001b[0m\u001b[1;33m\u001b[0m\u001b[0m\n",
      "\u001b[1;31mNameError\u001b[0m: name 'HOUSING_DATA_PATH' is not defined"
     ]
    }
   ],
   "source": [
    "def load_housing_data(housing_data_path=HOUSING_DATA_PATH):\n",
    "    data_path = path.join(housing_data_path, 'housing.csv')\n",
    "    return pd.read_csv(data_path) # loading data into csv"
   ]
  },
  {
   "cell_type": "code",
   "execution_count": null,
   "id": "80203250",
   "metadata": {},
   "outputs": [],
   "source": []
  }
 ],
 "metadata": {
  "kernelspec": {
   "display_name": "Python 3",
   "language": "python",
   "name": "python3"
  },
  "language_info": {
   "codemirror_mode": {
    "name": "ipython",
    "version": 3
   },
   "file_extension": ".py",
   "mimetype": "text/x-python",
   "name": "python",
   "nbconvert_exporter": "python",
   "pygments_lexer": "ipython3",
   "version": "3.8.8"
  }
 },
 "nbformat": 4,
 "nbformat_minor": 5
}
